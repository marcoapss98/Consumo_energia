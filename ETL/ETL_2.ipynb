{
 "cells": [
  {
   "cell_type": "code",
   "execution_count": 1,
   "id": "09647b5b-08b7-4b37-9f4e-d79c6b1be9db",
   "metadata": {},
   "outputs": [],
   "source": [
    "import pandas as pd\n",
    "import numpy as np\n",
    "from datetime import datetime\n",
    "import seaborn as sns"
   ]
  },
  {
   "cell_type": "markdown",
   "id": "8d6ae5ac-9e23-4e52-9269-8d9bb238cc1d",
   "metadata": {},
   "source": [
    "## Extract"
   ]
  },
  {
   "cell_type": "code",
   "execution_count": 2,
   "id": "c938b4bd-4c11-446a-abcf-85b02b6eac3c",
   "metadata": {},
   "outputs": [],
   "source": [
    "df = pd.read_csv('CCEE_BR_Data_original_edited.csv', encoding='UTF-8')"
   ]
  },
  {
   "cell_type": "code",
   "execution_count": 3,
   "id": "2f97fbe3-d54a-4b53-9e70-ab4da8598dde",
   "metadata": {},
   "outputs": [
    {
     "data": {
      "text/html": [
       "<div>\n",
       "<style scoped>\n",
       "    .dataframe tbody tr th:only-of-type {\n",
       "        vertical-align: middle;\n",
       "    }\n",
       "\n",
       "    .dataframe tbody tr th {\n",
       "        vertical-align: top;\n",
       "    }\n",
       "\n",
       "    .dataframe thead th {\n",
       "        text-align: right;\n",
       "    }\n",
       "</style>\n",
       "<table border=\"1\" class=\"dataframe\">\n",
       "  <thead>\n",
       "    <tr style=\"text-align: right;\">\n",
       "      <th></th>\n",
       "      <th>Data</th>\n",
       "      <th>Classe</th>\n",
       "      <th>Ramo</th>\n",
       "      <th>Submercado</th>\n",
       "      <th>UF</th>\n",
       "      <th>Consumo</th>\n",
       "      <th>Covid</th>\n",
       "    </tr>\n",
       "  </thead>\n",
       "  <tbody>\n",
       "    <tr>\n",
       "      <th>0</th>\n",
       "      <td>01/07/2018</td>\n",
       "      <td>Autoprodutor</td>\n",
       "      <td>ALIMENTÍCIOS</td>\n",
       "      <td>NORDESTE</td>\n",
       "      <td>PE</td>\n",
       "      <td>0.01</td>\n",
       "      <td>0</td>\n",
       "    </tr>\n",
       "    <tr>\n",
       "      <th>1</th>\n",
       "      <td>01/07/2018</td>\n",
       "      <td>Autoprodutor</td>\n",
       "      <td>ALIMENTÍCIOS</td>\n",
       "      <td>SUDESTE/CENTRO-OESTE</td>\n",
       "      <td>MG</td>\n",
       "      <td>0.00</td>\n",
       "      <td>0</td>\n",
       "    </tr>\n",
       "    <tr>\n",
       "      <th>2</th>\n",
       "      <td>01/07/2018</td>\n",
       "      <td>Autoprodutor</td>\n",
       "      <td>ALIMENTÍCIOS</td>\n",
       "      <td>SUDESTE/CENTRO-OESTE</td>\n",
       "      <td>MT</td>\n",
       "      <td>0.68</td>\n",
       "      <td>0</td>\n",
       "    </tr>\n",
       "    <tr>\n",
       "      <th>3</th>\n",
       "      <td>01/07/2018</td>\n",
       "      <td>Autoprodutor</td>\n",
       "      <td>ALIMENTÍCIOS</td>\n",
       "      <td>SUL</td>\n",
       "      <td>SC</td>\n",
       "      <td>1.88</td>\n",
       "      <td>0</td>\n",
       "    </tr>\n",
       "    <tr>\n",
       "      <th>4</th>\n",
       "      <td>01/07/2018</td>\n",
       "      <td>Autoprodutor</td>\n",
       "      <td>ALIMENTÍCIOS</td>\n",
       "      <td>SUL</td>\n",
       "      <td>RS</td>\n",
       "      <td>0.04</td>\n",
       "      <td>0</td>\n",
       "    </tr>\n",
       "    <tr>\n",
       "      <th>...</th>\n",
       "      <td>...</td>\n",
       "      <td>...</td>\n",
       "      <td>...</td>\n",
       "      <td>...</td>\n",
       "      <td>...</td>\n",
       "      <td>...</td>\n",
       "      <td>...</td>\n",
       "    </tr>\n",
       "    <tr>\n",
       "      <th>418606</th>\n",
       "      <td>19/06/2020</td>\n",
       "      <td>Distribuidor</td>\n",
       "      <td>ACR</td>\n",
       "      <td>SUDESTE/CENTRO-OESTE</td>\n",
       "      <td>DF</td>\n",
       "      <td>689.19</td>\n",
       "      <td>1</td>\n",
       "    </tr>\n",
       "    <tr>\n",
       "      <th>418607</th>\n",
       "      <td>19/06/2020</td>\n",
       "      <td>Distribuidor</td>\n",
       "      <td>ACR</td>\n",
       "      <td>SUDESTE/CENTRO-OESTE</td>\n",
       "      <td>AC</td>\n",
       "      <td>121.34</td>\n",
       "      <td>1</td>\n",
       "    </tr>\n",
       "    <tr>\n",
       "      <th>418608</th>\n",
       "      <td>19/06/2020</td>\n",
       "      <td>Distribuidor</td>\n",
       "      <td>ACR</td>\n",
       "      <td>SUL</td>\n",
       "      <td>SC</td>\n",
       "      <td>2012.83</td>\n",
       "      <td>1</td>\n",
       "    </tr>\n",
       "    <tr>\n",
       "      <th>418609</th>\n",
       "      <td>19/06/2020</td>\n",
       "      <td>Distribuidor</td>\n",
       "      <td>ACR</td>\n",
       "      <td>SUL</td>\n",
       "      <td>RS</td>\n",
       "      <td>2310.67</td>\n",
       "      <td>1</td>\n",
       "    </tr>\n",
       "    <tr>\n",
       "      <th>418610</th>\n",
       "      <td>19/06/2020</td>\n",
       "      <td>Distribuidor</td>\n",
       "      <td>ACR</td>\n",
       "      <td>SUL</td>\n",
       "      <td>PR</td>\n",
       "      <td>2443.64</td>\n",
       "      <td>1</td>\n",
       "    </tr>\n",
       "  </tbody>\n",
       "</table>\n",
       "<p>418611 rows × 7 columns</p>\n",
       "</div>"
      ],
      "text/plain": [
       "              Data        Classe          Ramo            Submercado   UF  \\\n",
       "0       01/07/2018  Autoprodutor  ALIMENTÍCIOS              NORDESTE  PE    \n",
       "1       01/07/2018  Autoprodutor  ALIMENTÍCIOS  SUDESTE/CENTRO-OESTE   MG   \n",
       "2       01/07/2018  Autoprodutor  ALIMENTÍCIOS  SUDESTE/CENTRO-OESTE   MT   \n",
       "3       01/07/2018  Autoprodutor  ALIMENTÍCIOS                   SUL   SC   \n",
       "4       01/07/2018  Autoprodutor  ALIMENTÍCIOS                   SUL   RS   \n",
       "...            ...           ...           ...                   ...  ...   \n",
       "418606  19/06/2020  Distribuidor           ACR  SUDESTE/CENTRO-OESTE  DF    \n",
       "418607  19/06/2020  Distribuidor           ACR  SUDESTE/CENTRO-OESTE   AC   \n",
       "418608  19/06/2020  Distribuidor           ACR                   SUL   SC   \n",
       "418609  19/06/2020  Distribuidor           ACR                   SUL   RS   \n",
       "418610  19/06/2020  Distribuidor           ACR                   SUL   PR   \n",
       "\n",
       "        Consumo  Covid  \n",
       "0          0.01      0  \n",
       "1          0.00      0  \n",
       "2          0.68      0  \n",
       "3          1.88      0  \n",
       "4          0.04      0  \n",
       "...         ...    ...  \n",
       "418606   689.19      1  \n",
       "418607   121.34      1  \n",
       "418608  2012.83      1  \n",
       "418609  2310.67      1  \n",
       "418610  2443.64      1  \n",
       "\n",
       "[418611 rows x 7 columns]"
      ]
     },
     "execution_count": 3,
     "metadata": {},
     "output_type": "execute_result"
    }
   ],
   "source": [
    "df"
   ]
  },
  {
   "cell_type": "code",
   "execution_count": 4,
   "id": "152caab2-9cec-4bcc-8072-9eb8a6bbbeb1",
   "metadata": {},
   "outputs": [
    {
     "name": "stdout",
     "output_type": "stream",
     "text": [
      "<class 'pandas.core.frame.DataFrame'>\n",
      "RangeIndex: 418611 entries, 0 to 418610\n",
      "Data columns (total 7 columns):\n",
      " #   Column      Non-Null Count   Dtype  \n",
      "---  ------      --------------   -----  \n",
      " 0   Data        418611 non-null  object \n",
      " 1   Classe      418611 non-null  object \n",
      " 2   Ramo        418611 non-null  object \n",
      " 3   Submercado  418611 non-null  object \n",
      " 4   UF          418611 non-null  object \n",
      " 5   Consumo     418611 non-null  float64\n",
      " 6   Covid       418611 non-null  int64  \n",
      "dtypes: float64(1), int64(1), object(5)\n",
      "memory usage: 22.4+ MB\n"
     ]
    }
   ],
   "source": [
    "df.info()"
   ]
  },
  {
   "cell_type": "markdown",
   "id": "ff35dc4f-b563-4935-be39-f1723897c3c1",
   "metadata": {},
   "source": [
    "## Transform"
   ]
  },
  {
   "cell_type": "markdown",
   "id": "e9f304a3-9fc9-433c-9c2f-d00e4e5b3dbc",
   "metadata": {},
   "source": [
    "### Entendendo a formatação de data"
   ]
  },
  {
   "cell_type": "code",
   "execution_count": 5,
   "id": "6be040ac-10aa-46a5-92cf-633f5c108cc1",
   "metadata": {},
   "outputs": [
    {
     "data": {
      "text/plain": [
       "19/06/2020    627\n",
       "10/06/2020    627\n",
       "01/06/2020    627\n",
       "02/06/2020    627\n",
       "04/06/2020    627\n",
       "             ... \n",
       "28/07/2018    551\n",
       "29/07/2018    551\n",
       "30/07/2018    551\n",
       "31/07/2018    551\n",
       "01/07/2018    551\n",
       "Name: Data, Length: 716, dtype: int64"
      ]
     },
     "execution_count": 5,
     "metadata": {},
     "output_type": "execute_result"
    }
   ],
   "source": [
    "df['Data'].value_counts()"
   ]
  },
  {
   "cell_type": "code",
   "execution_count": 6,
   "id": "3c618f8c-9da1-4dac-aaa9-09e57c05685f",
   "metadata": {},
   "outputs": [
    {
     "data": {
      "text/plain": [
       "0        2018-07-01\n",
       "1        2018-07-01\n",
       "2        2018-07-01\n",
       "3        2018-07-01\n",
       "4        2018-07-01\n",
       "            ...    \n",
       "418606   2020-06-19\n",
       "418607   2020-06-19\n",
       "418608   2020-06-19\n",
       "418609   2020-06-19\n",
       "418610   2020-06-19\n",
       "Name: Data, Length: 418611, dtype: datetime64[ns]"
      ]
     },
     "execution_count": 6,
     "metadata": {},
     "output_type": "execute_result"
    }
   ],
   "source": [
    "# Convertendo para o tipo data\n",
    "df['Data'] = pd.to_datetime(df['Data'], format = '%d/%m/%y', infer_datetime_format = True, dayfirst = True)\n",
    "df['Data']"
   ]
  },
  {
   "cell_type": "code",
   "execution_count": 7,
   "id": "a1c1241e-67ea-49f2-a09b-78642b816468",
   "metadata": {},
   "outputs": [
    {
     "data": {
      "text/plain": [
       "<Axes: xlabel='Data', ylabel='Count'>"
      ]
     },
     "execution_count": 7,
     "metadata": {},
     "output_type": "execute_result"
    },
    {
     "data": {
      "image/png": "[encoded data removed]",
      "text/plain": [
       "<Figure size 640x480 with 1 Axes>"
      ]
     },
     "metadata": {},
     "output_type": "display_data"
    }
   ],
   "source": [
    "# Conferindo a distribuição de dias\n",
    "dia = df['Data'].dt.day\n",
    "sns.histplot(data = df, x = dia)"
   ]
  },
  {
   "cell_type": "markdown",
   "id": "c497e3b1-ae4a-422f-b6fb-598807324b44",
   "metadata": {},
   "source": [
    "### Explorando os dados de Ramo"
   ]
  },
  {
   "cell_type": "code",
   "execution_count": 8,
   "id": "7f5c396a-9ce2-4094-b31f-54776e88595e",
   "metadata": {},
   "outputs": [
    {
     "data": {
      "text/plain": [
       "SERVIÇOS                       46267\n",
       "MINERAISNÃO-METÁLICOS          44621\n",
       "ALIMENTÍCIOS                   38326\n",
       "MANUFATURADOSDIVERSOS          32744\n",
       "QUÍMICOS                       30055\n",
       "METALURGIAEPRODUTOSDEMETAL     29126\n",
       "COMÉRCIO                       27547\n",
       "BEBIDAS                        26382\n",
       "MADEIRAPAPELECELULOSE          24364\n",
       "TÊXTEIS                        24255\n",
       "TELECOMUNICAÇÕES               19643\n",
       "ACR                            18616\n",
       "VEÍCULOS                       18169\n",
       "EXTRAÇÃODEMINERAISMETÁLICOS    14821\n",
       "SANEAMENTO                     12513\n",
       "TRANSPORTE                     11162\n",
       "Name: Ramo, dtype: int64"
      ]
     },
     "execution_count": 8,
     "metadata": {},
     "output_type": "execute_result"
    }
   ],
   "source": [
    "df['Ramo'].value_counts()"
   ]
  },
  {
   "cell_type": "code",
   "execution_count": 9,
   "id": "1de4e97d-390a-4789-8535-e352eaff2f37",
   "metadata": {},
   "outputs": [
    {
     "data": {
      "text/plain": [
       "Serviços                          46267\n",
       "Minerais não-metálicos            44621\n",
       "Alimentícios                      38326\n",
       "Manufaturados diversos            32744\n",
       "Químicos                          30055\n",
       "Metalurgia e produtos de metal    29126\n",
       "Comércio                          27547\n",
       "Bebidas                           26382\n",
       "Madeira, papel e celulose         24364\n",
       "Têxteis                           24255\n",
       "Telecomunicações                  19643\n",
       "Acr                               18616\n",
       "Veículos                          18169\n",
       "Extração de minerais metálicos    14821\n",
       "Saneamento                        12513\n",
       "Transporte                        11162\n",
       "Name: Ramo, dtype: int64"
      ]
     },
     "execution_count": 9,
     "metadata": {},
     "output_type": "execute_result"
    }
   ],
   "source": [
    "# Padronizando a formatação\n",
    "df['Ramo'] = df['Ramo'].str.capitalize()\n",
    "\n",
    "# Corrigindo a formatação de palavras que estão agrupadas\n",
    "df['Ramo'] = df['Ramo'].replace({'Extraçãodemineraismetálicos':'Extração de minerais metálicos',\n",
    "                                'Madeirapapelecelulose':'Madeira, papel e celulose',\n",
    "                                'Manufaturadosdiversos':'Manufaturados diversos',\n",
    "                                'Metalurgiaeprodutosdemetal':'Metalurgia e produtos de metal',\n",
    "                                'Mineraisnão-metálicos':'Minerais não-metálicos'})\n",
    "\n",
    "df['Ramo'].value_counts()"
   ]
  },
  {
   "cell_type": "markdown",
   "id": "0e17b4ed-43b4-4d67-a4eb-297d035c7a35",
   "metadata": {},
   "source": [
    "### Explorando os dados de covid por ramo"
   ]
  },
  {
   "cell_type": "code",
   "execution_count": 10,
   "id": "6db061b3-a72c-437e-995e-fa7c9c98bfb1",
   "metadata": {},
   "outputs": [
    {
     "data": {
      "text/plain": [
       "Ramo\n",
       "Acr                               2262\n",
       "Alimentícios                      4959\n",
       "Bebidas                           3356\n",
       "Comércio                          3480\n",
       "Extração de minerais metálicos    1895\n",
       "Madeira, papel e celulose         3045\n",
       "Manufaturados diversos            4263\n",
       "Metalurgia e produtos de metal    3908\n",
       "Minerais não-metálicos            5728\n",
       "Químicos                          3828\n",
       "Saneamento                        1995\n",
       "Serviços                          5990\n",
       "Telecomunicações                  2523\n",
       "Transporte                        1566\n",
       "Têxteis                           3219\n",
       "Veículos                          2436\n",
       "Name: Covid, dtype: int64"
      ]
     },
     "execution_count": 10,
     "metadata": {},
     "output_type": "execute_result"
    }
   ],
   "source": [
    "df['Covid'].groupby(df['Ramo']).sum()"
   ]
  },
  {
   "cell_type": "markdown",
   "id": "5225dda8-34c1-4acf-8970-63136d9a9f92",
   "metadata": {},
   "source": [
    "### Explorando os dados do submercado"
   ]
  },
  {
   "cell_type": "code",
   "execution_count": 11,
   "id": "59db3dd5-de9d-46d2-b37f-003c3c5ae05e",
   "metadata": {},
   "outputs": [
    {
     "data": {
      "text/plain": [
       "SUDESTE/CENTRO-OESTE    182879\n",
       "NORDESTE                109767\n",
       "SUL                      69647\n",
       "NORTE                    56318\n",
       "Name: Submercado, dtype: int64"
      ]
     },
     "execution_count": 11,
     "metadata": {},
     "output_type": "execute_result"
    }
   ],
   "source": [
    "df['Submercado'].value_counts()"
   ]
  },
  {
   "cell_type": "code",
   "execution_count": 12,
   "id": "0779b5d7-2687-4504-92ba-175afc45bbaa",
   "metadata": {},
   "outputs": [
    {
     "data": {
      "text/plain": [
       "Sudeste/Centro-Oeste    182879\n",
       "Nordeste                109767\n",
       "Sul                      69647\n",
       "Norte                    56318\n",
       "Name: Submercado, dtype: int64"
      ]
     },
     "execution_count": 12,
     "metadata": {},
     "output_type": "execute_result"
    }
   ],
   "source": [
    "# Corrigindo a formatação\n",
    "df['Submercado'] = df['Submercado'].str.title()\n",
    "\n",
    "df['Submercado'].value_counts()"
   ]
  },
  {
   "cell_type": "code",
   "execution_count": 13,
   "id": "7efb5f68-e302-48ff-8dee-586927c65d92",
   "metadata": {},
   "outputs": [
    {
     "data": {
      "text/plain": [
       "array(['PE\\xa0', 'MG', 'MT', 'SC', 'RS', 'SP', 'RJ', 'PA', 'MA', 'ES',\n",
       "       'BA\\xa0', 'MS', 'PR', 'CE', 'SE', 'RN', 'PB', 'AL\\xa0', 'GO',\n",
       "       'DF\\xa0', 'PI', 'TO', 'RO', 'AC', 'AM', 'AP'], dtype=object)"
      ]
     },
     "execution_count": 13,
     "metadata": {},
     "output_type": "execute_result"
    }
   ],
   "source": [
    "# Identificando os valores únicos de UF\n",
    "df['UF'].unique()"
   ]
  },
  {
   "cell_type": "code",
   "execution_count": 14,
   "id": "3cee6576-c53a-4a31-9dc4-f9b4180d56e5",
   "metadata": {},
   "outputs": [],
   "source": [
    "#Corrigindo a codificação para utf-8 manual\n",
    "df['UF'] = df['UF'].replace({'PE\\xa0':'PE',\n",
    "                            'DF\\xa0':'DF',\n",
    "                            'AL\\xa0':'AL',\n",
    "                            'BA\\xa0':'BA'})\n",
    "\n",
    "# Corrigindo as regiões referentes a UF\n",
    "sudoeste = ['SP', 'RJ', 'MG', 'ES']\n",
    "centro_oeste = ['GO', 'MT', 'MS', 'DF']\n",
    "nordeste = ['AL', 'BA', 'CE', 'MA', 'PB', 'PE', 'PI', 'RN', 'SE']\n",
    "norte = ['AC', 'AM', 'AP', 'PA', 'RO', 'RR', 'TO']\n",
    "\n",
    "df.loc[df['UF'].isin(sudoeste), 'Submercado'] = 'Sudeste'\n",
    "df.loc[df['UF'].isin(centro_oeste), 'Submercado'] = 'Centro-Oeste'\n",
    "df.loc[df['UF'].isin(nordeste), 'Submercado'] = 'Nordeste'\n",
    "df.loc[df['UF'].isin(norte), 'Submercado'] = 'Norte'"
   ]
  },
  {
   "cell_type": "code",
   "execution_count": 15,
   "id": "af7dfaae-b07d-4932-86ff-d00de1d15f93",
   "metadata": {},
   "outputs": [
    {
     "data": {
      "text/plain": [
       "Nordeste        125066\n",
       "Sudeste         106639\n",
       "Sul              69647\n",
       "Centro-Oeste     64784\n",
       "Norte            52475\n",
       "Name: Submercado, dtype: int64"
      ]
     },
     "execution_count": 15,
     "metadata": {},
     "output_type": "execute_result"
    }
   ],
   "source": [
    "df['Submercado'].value_counts()"
   ]
  },
  {
   "cell_type": "markdown",
   "id": "bb0b133c-a4bb-4702-a2d5-614232fb29db",
   "metadata": {},
   "source": [
    "## Extract"
   ]
  },
  {
   "cell_type": "code",
   "execution_count": 16,
   "id": "cd6a9bc6-7d38-443d-abe0-95c7b7ed7eb2",
   "metadata": {},
   "outputs": [],
   "source": [
    "df = df.to_csv('CCEE_BR_2.csv', index=False)\n",
    "df"
   ]
  },
  {
   "cell_type": "markdown",
   "id": "19212676-7ffe-462c-9a24-49879ee11395",
   "metadata": {},
   "source": [
    "## Juntando com o dataframe do primeiro ETL"
   ]
  },
  {
   "cell_type": "code",
   "execution_count": 18,
   "id": "1ed5e8e7-b60e-4c8b-b8e4-7ec963902ee6",
   "metadata": {},
   "outputs": [],
   "source": [
    "df_1 = pd.read_csv('CCEE_BR_1.csv')\n",
    "df_2 = pd.read_csv('CCEE_BR_2.csv')\n",
    "df_3 = pd.concat([df_1, df_2])\n",
    "df_3.to_csv('CCEE_BR_completo.csv', index = False)"
   ]
  },
  {
   "cell_type": "code",
   "execution_count": null,
   "id": "2818b9bc-a10a-4314-a78b-8693e6ccbe2c",
   "metadata": {},
   "outputs": [],
   "source": []
  }
 ],
 "metadata": {
  "kernelspec": {
   "display_name": "Python 3 (ipykernel)",
   "language": "python",
   "name": "python3"
  },
  "language_info": {
   "codemirror_mode": {
    "name": "ipython",
    "version": 3
   },
   "file_extension": ".py",
   "mimetype": "text/x-python",
   "name": "python",
   "nbconvert_exporter": "python",
   "pygments_lexer": "ipython3",
   "version": "3.10.9"
  }
 },
 "nbformat": 4,
 "nbformat_minor": 5
}
