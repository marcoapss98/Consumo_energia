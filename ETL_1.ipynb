{
 "cells": [
  {
   "cell_type": "code",
   "execution_count": 1,
   "id": "b7451805-14bd-409d-adba-a7ee9a0313ff",
   "metadata": {},
   "outputs": [],
   "source": [
    "import pandas as pd\n",
    "import numpy as np\n",
    "from datetime import datetime\n",
    "import seaborn as sns"
   ]
  },
  {
   "cell_type": "markdown",
   "id": "dc590e64-fe72-48cc-a116-a15edc26ce62",
   "metadata": {},
   "source": [
    "## Extract"
   ]
  },
  {
   "cell_type": "code",
   "execution_count": 2,
   "id": "882cadc9-df89-438e-93c1-f3e4ace9588a",
   "metadata": {},
   "outputs": [
    {
     "data": {
      "text/html": [
       "<div>\n",
       "<style scoped>\n",
       "    .dataframe tbody tr th:only-of-type {\n",
       "        vertical-align: middle;\n",
       "    }\n",
       "\n",
       "    .dataframe tbody tr th {\n",
       "        vertical-align: top;\n",
       "    }\n",
       "\n",
       "    .dataframe thead th {\n",
       "        text-align: right;\n",
       "    }\n",
       "</style>\n",
       "<table border=\"1\" class=\"dataframe\">\n",
       "  <thead>\n",
       "    <tr style=\"text-align: right;\">\n",
       "      <th></th>\n",
       "      <th>Data</th>\n",
       "      <th>Classe</th>\n",
       "      <th>Ramo</th>\n",
       "      <th>Submercado</th>\n",
       "      <th>UF</th>\n",
       "      <th>Consumo</th>\n",
       "      <th>Covid</th>\n",
       "    </tr>\n",
       "  </thead>\n",
       "  <tbody>\n",
       "    <tr>\n",
       "      <th>0</th>\n",
       "      <td>01/01/2018</td>\n",
       "      <td>Autoprodutor</td>\n",
       "      <td>ALIMENTÍCIOS</td>\n",
       "      <td>NORDESTE</td>\n",
       "      <td>PE</td>\n",
       "      <td>0</td>\n",
       "      <td>0</td>\n",
       "    </tr>\n",
       "    <tr>\n",
       "      <th>1</th>\n",
       "      <td>01/01/2018</td>\n",
       "      <td>Autoprodutor</td>\n",
       "      <td>ALIMENTÍCIOS</td>\n",
       "      <td>SUDESTE / CENTRO-OESTE</td>\n",
       "      <td>MT</td>\n",
       "      <td>0</td>\n",
       "      <td>0</td>\n",
       "    </tr>\n",
       "    <tr>\n",
       "      <th>2</th>\n",
       "      <td>01/01/2018</td>\n",
       "      <td>Autoprodutor</td>\n",
       "      <td>ALIMENTÍCIOS</td>\n",
       "      <td>SUDESTE / CENTRO-OESTE</td>\n",
       "      <td>MG</td>\n",
       "      <td>0</td>\n",
       "      <td>0</td>\n",
       "    </tr>\n",
       "    <tr>\n",
       "      <th>3</th>\n",
       "      <td>01/01/2018</td>\n",
       "      <td>Autoprodutor</td>\n",
       "      <td>ALIMENTÍCIOS</td>\n",
       "      <td>SUDESTE / CENTRO-OESTE</td>\n",
       "      <td>SP</td>\n",
       "      <td>0</td>\n",
       "      <td>0</td>\n",
       "    </tr>\n",
       "    <tr>\n",
       "      <th>4</th>\n",
       "      <td>01/01/2018</td>\n",
       "      <td>Autoprodutor</td>\n",
       "      <td>ALIMENTÍCIOS</td>\n",
       "      <td>SUL</td>\n",
       "      <td>PR</td>\n",
       "      <td>2</td>\n",
       "      <td>0</td>\n",
       "    </tr>\n",
       "    <tr>\n",
       "      <th>...</th>\n",
       "      <td>...</td>\n",
       "      <td>...</td>\n",
       "      <td>...</td>\n",
       "      <td>...</td>\n",
       "      <td>...</td>\n",
       "      <td>...</td>\n",
       "      <td>...</td>\n",
       "    </tr>\n",
       "    <tr>\n",
       "      <th>634883</th>\n",
       "      <td>12/15/2020</td>\n",
       "      <td>Distribuidor</td>\n",
       "      <td>ACR</td>\n",
       "      <td>SUDESTE / CENTRO-OESTE</td>\n",
       "      <td>SP</td>\n",
       "      <td>11647</td>\n",
       "      <td>1</td>\n",
       "    </tr>\n",
       "    <tr>\n",
       "      <th>634884</th>\n",
       "      <td>12/15/2020</td>\n",
       "      <td>Distribuidor</td>\n",
       "      <td>ACR</td>\n",
       "      <td>SUL</td>\n",
       "      <td>PR</td>\n",
       "      <td>2775</td>\n",
       "      <td>1</td>\n",
       "    </tr>\n",
       "    <tr>\n",
       "      <th>634885</th>\n",
       "      <td>12/15/2020</td>\n",
       "      <td>Distribuidor</td>\n",
       "      <td>ACR</td>\n",
       "      <td>SUL</td>\n",
       "      <td>RS</td>\n",
       "      <td>2978</td>\n",
       "      <td>1</td>\n",
       "    </tr>\n",
       "    <tr>\n",
       "      <th>634886</th>\n",
       "      <td>12/15/2020</td>\n",
       "      <td>Distribuidor</td>\n",
       "      <td>ACR</td>\n",
       "      <td>SUL</td>\n",
       "      <td>SC</td>\n",
       "      <td>2465</td>\n",
       "      <td>1</td>\n",
       "    </tr>\n",
       "    <tr>\n",
       "      <th>634887</th>\n",
       "      <td>12/15/2020</td>\n",
       "      <td>Exportador</td>\n",
       "      <td>SERVIÇOS</td>\n",
       "      <td>SUL</td>\n",
       "      <td>RS</td>\n",
       "      <td>0</td>\n",
       "      <td>1</td>\n",
       "    </tr>\n",
       "  </tbody>\n",
       "</table>\n",
       "<p>634888 rows × 7 columns</p>\n",
       "</div>"
      ],
      "text/plain": [
       "              Data        Classe          Ramo              Submercado   UF  \\\n",
       "0       01/01/2018  Autoprodutor  ALIMENTÍCIOS                NORDESTE  PE    \n",
       "1       01/01/2018  Autoprodutor  ALIMENTÍCIOS  SUDESTE / CENTRO-OESTE   MT   \n",
       "2       01/01/2018  Autoprodutor  ALIMENTÍCIOS  SUDESTE / CENTRO-OESTE   MG   \n",
       "3       01/01/2018  Autoprodutor  ALIMENTÍCIOS  SUDESTE / CENTRO-OESTE   SP   \n",
       "4       01/01/2018  Autoprodutor  ALIMENTÍCIOS                     SUL   PR   \n",
       "...            ...           ...           ...                     ...  ...   \n",
       "634883  12/15/2020  Distribuidor           ACR  SUDESTE / CENTRO-OESTE   SP   \n",
       "634884  12/15/2020  Distribuidor           ACR                     SUL   PR   \n",
       "634885  12/15/2020  Distribuidor           ACR                     SUL   RS   \n",
       "634886  12/15/2020  Distribuidor           ACR                     SUL   SC   \n",
       "634887  12/15/2020    Exportador      SERVIÇOS                     SUL   RS   \n",
       "\n",
       "        Consumo  Covid  \n",
       "0             0      0  \n",
       "1             0      0  \n",
       "2             0      0  \n",
       "3             0      0  \n",
       "4             2      0  \n",
       "...         ...    ...  \n",
       "634883    11647      1  \n",
       "634884     2775      1  \n",
       "634885     2978      1  \n",
       "634886     2465      1  \n",
       "634887        0      1  \n",
       "\n",
       "[634888 rows x 7 columns]"
      ]
     },
     "execution_count": 2,
     "metadata": {},
     "output_type": "execute_result"
    }
   ],
   "source": [
    "df = pd.read_csv('CCEE_BR_Data_DEC_2020_v3.csv', encoding='UTF-8')\n",
    "tamanho = df.shape\n",
    "df"
   ]
  },
  {
   "cell_type": "code",
   "execution_count": 3,
   "id": "520cf918-c699-4c19-b102-0cf5bafef800",
   "metadata": {},
   "outputs": [
    {
     "name": "stdout",
     "output_type": "stream",
     "text": [
      "<class 'pandas.core.frame.DataFrame'>\n",
      "RangeIndex: 634888 entries, 0 to 634887\n",
      "Data columns (total 7 columns):\n",
      " #   Column      Non-Null Count   Dtype \n",
      "---  ------      --------------   ----- \n",
      " 0   Data        634888 non-null  object\n",
      " 1   Classe      634888 non-null  object\n",
      " 2   Ramo        634888 non-null  object\n",
      " 3   Submercado  634888 non-null  object\n",
      " 4   UF          634888 non-null  object\n",
      " 5   Consumo     634888 non-null  int64 \n",
      " 6   Covid       634888 non-null  int64 \n",
      "dtypes: int64(2), object(5)\n",
      "memory usage: 33.9+ MB\n"
     ]
    }
   ],
   "source": [
    "df.info()"
   ]
  },
  {
   "cell_type": "markdown",
   "id": "6c6db605-1a1e-469f-b052-bd9e765d2f08",
   "metadata": {},
   "source": [
    "## Transform"
   ]
  },
  {
   "cell_type": "markdown",
   "id": "c097e5dc-5b44-4072-ae22-33dbc6cbfc91",
   "metadata": {},
   "source": [
    "### Entendendo a formatação da data"
   ]
  },
  {
   "cell_type": "code",
   "execution_count": 4,
   "id": "158a56a1-e105-466e-82bd-349acf70cafa",
   "metadata": {},
   "outputs": [
    {
     "data": {
      "text/plain": [
       "12/15/2020    650\n",
       "11/11/2020    650\n",
       "11/21/2020    650\n",
       "11/20/2020    650\n",
       "11/19/2020    650\n",
       "             ... \n",
       "1/28/2018     539\n",
       "1/29/2018     539\n",
       "1/30/2018     539\n",
       "1/31/2018     539\n",
       "01/01/2018    539\n",
       "Name: Data, Length: 1080, dtype: int64"
      ]
     },
     "execution_count": 4,
     "metadata": {},
     "output_type": "execute_result"
    }
   ],
   "source": [
    "df['Data'].value_counts()"
   ]
  },
  {
   "cell_type": "code",
   "execution_count": 5,
   "id": "da2118a9-e739-4ace-ac64-0a80335b6444",
   "metadata": {},
   "outputs": [],
   "source": [
    "df['Data'] = pd.to_datetime(df['Data'], infer_datetime_format=True)"
   ]
  },
  {
   "cell_type": "code",
   "execution_count": 6,
   "id": "38278f1d-6feb-4215-bff6-61b0a19984bf",
   "metadata": {},
   "outputs": [
    {
     "data": {
      "text/plain": [
       "<Axes: xlabel='Data', ylabel='Count'>"
      ]
     },
     "execution_count": 6,
     "metadata": {},
     "output_type": "execute_result"
    },
    {
     "data": {
      "image/png": "[encoded data removed]",
      "text/plain": [
       "<Figure size 640x480 with 1 Axes>"
      ]
     },
     "metadata": {},
     "output_type": "display_data"
    }
   ],
   "source": [
    "# Conferindo a distribuição de dias\n",
    "dia = df['Data'].dt.day\n",
    "sns.histplot(data = df, x = dia)"
   ]
  },
  {
   "cell_type": "markdown",
   "id": "0648760d-1645-4a66-9e21-8b97433118cd",
   "metadata": {},
   "source": [
    "### Explorando os dados do Ramo"
   ]
  },
  {
   "cell_type": "code",
   "execution_count": 7,
   "id": "42016c4f-c9af-4377-bbd9-3c5d5213e639",
   "metadata": {},
   "outputs": [
    {
     "data": {
      "text/plain": [
       "SERVIÇOS                          69540\n",
       "MINERAIS NÃO-METÁLICOS            67620\n",
       "ALIMENTÍCIOS                      58485\n",
       "MANUFATURADOS DIVERSOS            49292\n",
       "QUÍMICOS                          44988\n",
       "METALURGIA E PRODUTOS DE METAL    43826\n",
       "COMÉRCIO                          41487\n",
       "BEBIDAS                           39993\n",
       "MADEIRA  PAPEL E CELULOSE         37286\n",
       "TÊXTEIS                           36983\n",
       "TELECOMUNICAÇÕES                  29572\n",
       "ACR                               28080\n",
       "VEÍCULOS                          27701\n",
       "EXTRAÇÃO DE MINERAIS METÁLICOS    22786\n",
       "SANEAMENTO                        20056\n",
       "TRANSPORTE                        17193\n",
       "Name: Ramo, dtype: int64"
      ]
     },
     "execution_count": 7,
     "metadata": {},
     "output_type": "execute_result"
    }
   ],
   "source": [
    "df['Ramo'].value_counts()"
   ]
  },
  {
   "cell_type": "code",
   "execution_count": 8,
   "id": "b99db72b-b711-4ccb-94ec-f4f6444f5860",
   "metadata": {},
   "outputs": [
    {
     "data": {
      "text/plain": [
       "Serviços                          69540\n",
       "Minerais não-metálicos            67620\n",
       "Alimentícios                      58485\n",
       "Manufaturados diversos            49292\n",
       "Químicos                          44988\n",
       "Metalurgia e produtos de metal    43826\n",
       "Comércio                          41487\n",
       "Bebidas                           39993\n",
       "Madeira, papel e celulose         37286\n",
       "Têxteis                           36983\n",
       "Telecomunicações                  29572\n",
       "Acr                               28080\n",
       "Veículos                          27701\n",
       "Extração de minerais metálicos    22786\n",
       "Saneamento                        20056\n",
       "Transporte                        17193\n",
       "Name: Ramo, dtype: int64"
      ]
     },
     "execution_count": 8,
     "metadata": {},
     "output_type": "execute_result"
    }
   ],
   "source": [
    "# Padronizando as classes\n",
    "df['Ramo'] = df['Ramo'].str.capitalize()\n",
    "\n",
    "# Corrigindo a formatação da classe madeira papel e celulose\n",
    "df['Ramo'] = df['Ramo'].replace('Madeira  papel e celulose', 'Madeira, papel e celulose')\n",
    "\n",
    "df['Ramo'].value_counts()"
   ]
  },
  {
   "cell_type": "markdown",
   "id": "d3479f5d-1135-46da-915b-11b1bd650b95",
   "metadata": {},
   "source": [
    "### Explorando os dados de covid por ramo"
   ]
  },
  {
   "cell_type": "code",
   "execution_count": 9,
   "id": "3bd97030-472d-44c4-8705-2aef033646b2",
   "metadata": {},
   "outputs": [
    {
     "data": {
      "text/plain": [
       "Ramo\n",
       "Acr                                6916\n",
       "Alimentícios                      15283\n",
       "Bebidas                           10337\n",
       "Comércio                          10928\n",
       "Extração de minerais metálicos     6187\n",
       "Madeira, papel e celulose          9767\n",
       "Manufaturados diversos            13202\n",
       "Metalurgia e produtos de metal    11963\n",
       "Minerais não-metálicos            17619\n",
       "Químicos                          11681\n",
       "Saneamento                         6759\n",
       "Serviços                          18573\n",
       "Telecomunicações                   7638\n",
       "Transporte                         5274\n",
       "Têxteis                            9842\n",
       "Veículos                           7585\n",
       "Name: Covid, dtype: int64"
      ]
     },
     "execution_count": 9,
     "metadata": {},
     "output_type": "execute_result"
    }
   ],
   "source": [
    "df['Covid'].groupby(df['Ramo']).sum()"
   ]
  },
  {
   "cell_type": "markdown",
   "id": "5af598d4-29a3-4d05-8105-df4c1b645ff6",
   "metadata": {},
   "source": [
    "### Explorando os dados do submercado"
   ]
  },
  {
   "cell_type": "code",
   "execution_count": 10,
   "id": "0968f2db-bf33-47c6-8b03-7fd6bc85d080",
   "metadata": {},
   "outputs": [
    {
     "data": {
      "text/plain": [
       "SUDESTE / CENTRO-OESTE    276126\n",
       "NORDESTE                  166832\n",
       "SUL                       106248\n",
       "NORTE                      85682\n",
       "Name: Submercado, dtype: int64"
      ]
     },
     "execution_count": 10,
     "metadata": {},
     "output_type": "execute_result"
    }
   ],
   "source": [
    "df['Submercado'].value_counts()"
   ]
  },
  {
   "cell_type": "code",
   "execution_count": 11,
   "id": "ff8509db-da8d-43b7-a84d-5347792973c7",
   "metadata": {},
   "outputs": [
    {
     "data": {
      "text/plain": [
       "Sudeste / Centro-Oeste    276126\n",
       "Nordeste                  166832\n",
       "Sul                       106248\n",
       "Norte                      85682\n",
       "Name: Submercado, dtype: int64"
      ]
     },
     "execution_count": 11,
     "metadata": {},
     "output_type": "execute_result"
    }
   ],
   "source": [
    "# Corrigindo a formatação\n",
    "df['Submercado'] = df['Submercado'].str.title()\n",
    "\n",
    "df['Submercado'].value_counts()"
   ]
  },
  {
   "cell_type": "markdown",
   "id": "371d91ba-7b0b-44e8-9ecc-99b36295bd44",
   "metadata": {},
   "source": [
    "### Explorando os dados de UF"
   ]
  },
  {
   "cell_type": "code",
   "execution_count": 12,
   "id": "e811af9d-3620-4b60-9e27-9153e14871ae",
   "metadata": {},
   "outputs": [
    {
     "data": {
      "text/plain": [
       "array(['PE\\xa0', 'MT', 'MG', 'SP', 'PR', 'RS', 'SC', 'RJ', 'MA', 'PA',\n",
       "       'ES', 'BA\\xa0', 'MS', 'CE', 'AL\\xa0', 'PB', 'RN', 'SE', 'DF\\xa0',\n",
       "       'GO', 'PI', 'TO', 'AC', 'RO', 'AM', 'AP'], dtype=object)"
      ]
     },
     "execution_count": 12,
     "metadata": {},
     "output_type": "execute_result"
    }
   ],
   "source": [
    "# Identificando os valores únicos de UF\n",
    "df['UF'].unique()"
   ]
  },
  {
   "cell_type": "code",
   "execution_count": 13,
   "id": "2453541e-1018-492b-bee5-bae2e4a7bb04",
   "metadata": {},
   "outputs": [],
   "source": [
    "#Corrigindo a codificação para utf-8 manual\n",
    "df['UF'] = df['UF'].replace({'PE\\xa0':'PE',\n",
    "                            'DF\\xa0':'DF',\n",
    "                            'AL\\xa0':'AL',\n",
    "                            'BA\\xa0':'BA'})\n",
    "\n",
    "# Corrigindo as regiões referentes a UF\n",
    "sudoeste = ['SP', 'RJ', 'MG', 'ES']\n",
    "centro_oeste = ['GO', 'MT', 'MS', 'DF']\n",
    "nordeste = ['AL', 'BA', 'CE', 'MA', 'PB', 'PE', 'PI', 'RN', 'SE']\n",
    "norte = ['AC', 'AM', 'AP', 'PA', 'RO', 'RR', 'TO']\n",
    "\n",
    "df.loc[df['UF'].isin(sudoeste), 'Submercado'] = 'Sudeste'\n",
    "df.loc[df['UF'].isin(centro_oeste), 'Submercado'] = 'Centro-Oeste'\n",
    "df.loc[df['UF'].isin(nordeste), 'Submercado'] = 'Nordeste'\n",
    "df.loc[df['UF'].isin(norte), 'Submercado'] = 'Norte'"
   ]
  },
  {
   "cell_type": "code",
   "execution_count": 14,
   "id": "b03b215d-11b9-4357-812f-d8672165193c",
   "metadata": {},
   "outputs": [
    {
     "data": {
      "text/plain": [
       "Nordeste        189654\n",
       "Sudeste         160709\n",
       "Sul             106248\n",
       "Centro-Oeste     97771\n",
       "Norte            80506\n",
       "Name: Submercado, dtype: int64"
      ]
     },
     "execution_count": 14,
     "metadata": {},
     "output_type": "execute_result"
    }
   ],
   "source": [
    "df['Submercado'].value_counts()"
   ]
  },
  {
   "cell_type": "markdown",
   "id": "6a434ccc-10f0-4408-9ab4-e8422b9c9ca7",
   "metadata": {},
   "source": [
    "### Explorando os dados de covid"
   ]
  },
  {
   "cell_type": "code",
   "execution_count": 15,
   "id": "32d7d238-4179-4fee-ae43-9d68b60c46eb",
   "metadata": {},
   "outputs": [
    {
     "data": {
      "text/plain": [
       "0    465334\n",
       "1    169554\n",
       "Name: Covid, dtype: int64"
      ]
     },
     "execution_count": 15,
     "metadata": {},
     "output_type": "execute_result"
    }
   ],
   "source": [
    "df['Covid'].value_counts()"
   ]
  },
  {
   "cell_type": "code",
   "execution_count": 16,
   "id": "70727ede-9048-4696-b784-dff3b10f3e6d",
   "metadata": {},
   "outputs": [
    {
     "data": {
      "text/html": [
       "<div>\n",
       "<style scoped>\n",
       "    .dataframe tbody tr th:only-of-type {\n",
       "        vertical-align: middle;\n",
       "    }\n",
       "\n",
       "    .dataframe tbody tr th {\n",
       "        vertical-align: top;\n",
       "    }\n",
       "\n",
       "    .dataframe thead th {\n",
       "        text-align: right;\n",
       "    }\n",
       "</style>\n",
       "<table border=\"1\" class=\"dataframe\">\n",
       "  <thead>\n",
       "    <tr style=\"text-align: right;\">\n",
       "      <th></th>\n",
       "      <th>Data</th>\n",
       "      <th>Classe</th>\n",
       "      <th>Ramo</th>\n",
       "      <th>Submercado</th>\n",
       "      <th>UF</th>\n",
       "      <th>Consumo</th>\n",
       "      <th>Covid</th>\n",
       "    </tr>\n",
       "  </thead>\n",
       "  <tbody>\n",
       "    <tr>\n",
       "      <th>465334</th>\n",
       "      <td>2020-03-25</td>\n",
       "      <td>Autoprodutor</td>\n",
       "      <td>Alimentícios</td>\n",
       "      <td>Nordeste</td>\n",
       "      <td>PE</td>\n",
       "      <td>0</td>\n",
       "      <td>1</td>\n",
       "    </tr>\n",
       "    <tr>\n",
       "      <th>465335</th>\n",
       "      <td>2020-03-25</td>\n",
       "      <td>Autoprodutor</td>\n",
       "      <td>Alimentícios</td>\n",
       "      <td>Centro-Oeste</td>\n",
       "      <td>MT</td>\n",
       "      <td>2</td>\n",
       "      <td>1</td>\n",
       "    </tr>\n",
       "    <tr>\n",
       "      <th>465336</th>\n",
       "      <td>2020-03-25</td>\n",
       "      <td>Autoprodutor</td>\n",
       "      <td>Alimentícios</td>\n",
       "      <td>Sudeste</td>\n",
       "      <td>MG</td>\n",
       "      <td>0</td>\n",
       "      <td>1</td>\n",
       "    </tr>\n",
       "    <tr>\n",
       "      <th>465337</th>\n",
       "      <td>2020-03-25</td>\n",
       "      <td>Autoprodutor</td>\n",
       "      <td>Alimentícios</td>\n",
       "      <td>Sul</td>\n",
       "      <td>PR</td>\n",
       "      <td>2</td>\n",
       "      <td>1</td>\n",
       "    </tr>\n",
       "    <tr>\n",
       "      <th>465338</th>\n",
       "      <td>2020-03-25</td>\n",
       "      <td>Autoprodutor</td>\n",
       "      <td>Alimentícios</td>\n",
       "      <td>Sul</td>\n",
       "      <td>RS</td>\n",
       "      <td>1</td>\n",
       "      <td>1</td>\n",
       "    </tr>\n",
       "    <tr>\n",
       "      <th>...</th>\n",
       "      <td>...</td>\n",
       "      <td>...</td>\n",
       "      <td>...</td>\n",
       "      <td>...</td>\n",
       "      <td>...</td>\n",
       "      <td>...</td>\n",
       "      <td>...</td>\n",
       "    </tr>\n",
       "    <tr>\n",
       "      <th>634883</th>\n",
       "      <td>2020-12-15</td>\n",
       "      <td>Distribuidor</td>\n",
       "      <td>Acr</td>\n",
       "      <td>Sudeste</td>\n",
       "      <td>SP</td>\n",
       "      <td>11647</td>\n",
       "      <td>1</td>\n",
       "    </tr>\n",
       "    <tr>\n",
       "      <th>634884</th>\n",
       "      <td>2020-12-15</td>\n",
       "      <td>Distribuidor</td>\n",
       "      <td>Acr</td>\n",
       "      <td>Sul</td>\n",
       "      <td>PR</td>\n",
       "      <td>2775</td>\n",
       "      <td>1</td>\n",
       "    </tr>\n",
       "    <tr>\n",
       "      <th>634885</th>\n",
       "      <td>2020-12-15</td>\n",
       "      <td>Distribuidor</td>\n",
       "      <td>Acr</td>\n",
       "      <td>Sul</td>\n",
       "      <td>RS</td>\n",
       "      <td>2978</td>\n",
       "      <td>1</td>\n",
       "    </tr>\n",
       "    <tr>\n",
       "      <th>634886</th>\n",
       "      <td>2020-12-15</td>\n",
       "      <td>Distribuidor</td>\n",
       "      <td>Acr</td>\n",
       "      <td>Sul</td>\n",
       "      <td>SC</td>\n",
       "      <td>2465</td>\n",
       "      <td>1</td>\n",
       "    </tr>\n",
       "    <tr>\n",
       "      <th>634887</th>\n",
       "      <td>2020-12-15</td>\n",
       "      <td>Exportador</td>\n",
       "      <td>Serviços</td>\n",
       "      <td>Sul</td>\n",
       "      <td>RS</td>\n",
       "      <td>0</td>\n",
       "      <td>1</td>\n",
       "    </tr>\n",
       "  </tbody>\n",
       "</table>\n",
       "<p>169554 rows × 7 columns</p>\n",
       "</div>"
      ],
      "text/plain": [
       "             Data        Classe          Ramo    Submercado  UF  Consumo  \\\n",
       "465334 2020-03-25  Autoprodutor  Alimentícios      Nordeste  PE        0   \n",
       "465335 2020-03-25  Autoprodutor  Alimentícios  Centro-Oeste  MT        2   \n",
       "465336 2020-03-25  Autoprodutor  Alimentícios       Sudeste  MG        0   \n",
       "465337 2020-03-25  Autoprodutor  Alimentícios           Sul  PR        2   \n",
       "465338 2020-03-25  Autoprodutor  Alimentícios           Sul  RS        1   \n",
       "...           ...           ...           ...           ...  ..      ...   \n",
       "634883 2020-12-15  Distribuidor           Acr       Sudeste  SP    11647   \n",
       "634884 2020-12-15  Distribuidor           Acr           Sul  PR     2775   \n",
       "634885 2020-12-15  Distribuidor           Acr           Sul  RS     2978   \n",
       "634886 2020-12-15  Distribuidor           Acr           Sul  SC     2465   \n",
       "634887 2020-12-15    Exportador      Serviços           Sul  RS        0   \n",
       "\n",
       "        Covid  \n",
       "465334      1  \n",
       "465335      1  \n",
       "465336      1  \n",
       "465337      1  \n",
       "465338      1  \n",
       "...       ...  \n",
       "634883      1  \n",
       "634884      1  \n",
       "634885      1  \n",
       "634886      1  \n",
       "634887      1  \n",
       "\n",
       "[169554 rows x 7 columns]"
      ]
     },
     "execution_count": 16,
     "metadata": {},
     "output_type": "execute_result"
    }
   ],
   "source": [
    "df[(df['Covid']==1)]"
   ]
  },
  {
   "cell_type": "markdown",
   "id": "1c8e745b-2267-485c-9163-535419ca6166",
   "metadata": {},
   "source": [
    "Com base nos valores binários e comparação com as datas, valores 0 correspondem a época anterior ao covid e 1 durante."
   ]
  },
  {
   "cell_type": "markdown",
   "id": "47cc8538-1899-4831-8396-e74f77666ebb",
   "metadata": {},
   "source": [
    "## Extract"
   ]
  },
  {
   "cell_type": "code",
   "execution_count": 17,
   "id": "81028806-aaf1-4489-863e-e317c79cef3c",
   "metadata": {},
   "outputs": [],
   "source": [
    "df = df.to_csv('CCEE_BR_1.csv', index=False)\n",
    "df"
   ]
  }
 ],
 "metadata": {
  "kernelspec": {
   "display_name": "Python 3 (ipykernel)",
   "language": "python",
   "name": "python3"
  },
  "language_info": {
   "codemirror_mode": {
    "name": "ipython",
    "version": 3
   },
   "file_extension": ".py",
   "mimetype": "text/x-python",
   "name": "python",
   "nbconvert_exporter": "python",
   "pygments_lexer": "ipython3",
   "version": "3.10.9"
  }
 },
 "nbformat": 4,
 "nbformat_minor": 5
}
